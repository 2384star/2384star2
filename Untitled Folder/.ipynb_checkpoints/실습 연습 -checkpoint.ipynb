{
 "cells": [
  {
   "cell_type": "code",
   "execution_count": 1,
   "id": "6fa5075a",
   "metadata": {},
   "outputs": [],
   "source": [
    "class Couruer(object):\n",
    "    NATIONALITZY=\"KOR\"\n",
    "    \n",
    "    def __init__(self,name:str,address:str):\n",
    "        self.name=name\n",
    "        self.address=address\n",
    "        self.parcels=[]\n",
    "        \n",
    "    def assign(self,parcel:str) ->None:\n",
    "        self.parcels.append(parcel)\n",
    "    \n",
    "    def deliver(self) ->None:\n",
    "        for parcel in self.parcels:\n",
    "            print(parcel,\"배달중\")"
   ]
  },
  {
   "cell_type": "code",
   "execution_count": 8,
   "id": "b4f0c46b",
   "metadata": {},
   "outputs": [
    {
     "name": "stdout",
     "output_type": "stream",
     "text": [
      "김기사 - 경기도 성남시 정자동 근무중\n",
      "TV 상자 배달중\n",
      "편지 배달중\n"
     ]
    }
   ],
   "source": [
    "#겍체셍성 \n",
    "cur1= Couruer(\"김기사\",\"경기도 성남시 정자동\")\n",
    "\n",
    "#속성출력 \n",
    "print(cur1.name,\"-\",cur1.address,\"근무중\")\n",
    "\n",
    "#메소드 실행\n",
    "cur1.assign(\"TV 상자\")\n",
    "cur1.assign(\"편지\")\n",
    "\n",
    "cur1.deliver()"
   ]
  },
  {
   "cell_type": "code",
   "execution_count": 20,
   "id": "86f74ea6",
   "metadata": {},
   "outputs": [
    {
     "name": "stdout",
     "output_type": "stream",
     "text": [
      "와아아앙아아\n",
      "야옹\n",
      "멍멍\n"
     ]
    }
   ],
   "source": [
    "class 동물:\n",
    "    def 밥먹기(self):\n",
    "        print(\"냠냠\")\n",
    "    def 잠자기(self):\n",
    "        print(\"zzz\")\n",
    "    def 울기(self):\n",
    "        print(\"와아아앙아아\")\n",
    "me=동물()\n",
    "\n",
    "    \n",
    "class 고양이(동물):\n",
    "    def 뒹굴거리기(self):\n",
    "        print(\"골골골\")\n",
    "    def 울기(self):\n",
    "        print(\"야옹\")\n",
    "\n",
    "class 개(동물):\n",
    "    def 주인님찾기(self):\n",
    "        print(\"사랑해요\")\n",
    "    def 울기(self):\n",
    "        print(\"멍멍\")\n",
    "\n",
    "class 말(동물):\n",
    "    \n",
    "    def 누군가태우기(self,human):\n",
    "        print(human,\"태우기\")\n",
    "    def 울기(self):\n",
    "        print(\"히이잉\")\n",
    "\n",
    "sori=고양이()\n",
    "\n",
    "felix=개()\n",
    "\n",
    "# epona=말()\n",
    "# me.울기()\n",
    "# felix.울기()\n",
    "# epona.울기()\n",
    "# sori.울기()\n",
    "\n",
    "def 울어보기(animal:동물):\n",
    "    \n",
    "    animal.울기()\n",
    "    \n",
    "울어보기(me)\n",
    "\n",
    "울어보기(sori)\n",
    "울어보기(felix)"
   ]
  },
  {
   "cell_type": "code",
   "execution_count": null,
   "id": "9495919e",
   "metadata": {},
   "outputs": [],
   "source": []
  },
  {
   "cell_type": "code",
   "execution_count": null,
   "id": "1c6f04b3",
   "metadata": {},
   "outputs": [],
   "source": []
  }
 ],
 "metadata": {
  "kernelspec": {
   "display_name": "Python 3 (ipykernel)",
   "language": "python",
   "name": "python3"
  },
  "language_info": {
   "codemirror_mode": {
    "name": "ipython",
    "version": 3
   },
   "file_extension": ".py",
   "mimetype": "text/x-python",
   "name": "python",
   "nbconvert_exporter": "python",
   "pygments_lexer": "ipython3",
   "version": "3.9.16"
  }
 },
 "nbformat": 4,
 "nbformat_minor": 5
}
